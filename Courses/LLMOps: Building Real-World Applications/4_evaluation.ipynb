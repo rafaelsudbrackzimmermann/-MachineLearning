{
  "cells": [
    {
      "cell_type": "markdown",
      "metadata": {
        "id": "EKhCfNnv_Y9V"
      },
      "source": [
        "## Evaluating Finetuned Model\n",
        "\n",
        "In this section, we demonstrate how to evaluate the previously finetuned model."
      ]
    },
    {
      "cell_type": "code",
      "source": [
        "! pip install transformers comet-llm comet-ml sentencepiece --quiet"
      ],
      "metadata": {
        "id": "yVMz0DFg_bVN"
      },
      "execution_count": null,
      "outputs": []
    },
    {
      "cell_type": "code",
      "execution_count": null,
      "metadata": {
        "id": "md_zRyNd_Y9W",
        "outputId": "bbaafa05-e272-4ba0-90fa-90b12fa028b8"
      },
      "outputs": [
        {
          "name": "stderr",
          "output_type": "stream",
          "text": [
            "/Users/elvissaravia/opt/miniconda3/envs/comet/lib/python3.9/site-packages/tqdm/auto.py:21: TqdmWarning: IProgress not found. Please update jupyter and ipywidgets. See https://ipywidgets.readthedocs.io/en/stable/user_install.html\n",
            "  from .autonotebook import tqdm as notebook_tqdm\n"
          ]
        }
      ],
      "source": [
        "import os\n",
        "from transformers import AutoModelForCausalLM\n",
        "from transformers import AutoTokenizer, AutoModelForSeq2SeqLM, Seq2SeqTrainingArguments, Seq2SeqTrainer\n",
        "import transformers\n",
        "import pandas as pd\n",
        "import comet_llm\n",
        "\n",
        "COMET_WORKSPACE = \"WORKSPACE\"\n",
        "COMET_API_KEY = \"API_KEY\"\n",
        "\n",
        "transformers.set_seed(35)"
      ]
    },
    {
      "cell_type": "markdown",
      "metadata": {
        "id": "jqKpzb85_Y9X"
      },
      "source": [
        "### Load the Finetuned Model\n",
        "\n",
        "The first step is to load the finetuned model. You can load the model different ways, but in this example, we download our model and tokenizer from Comet (we stored them there in the last assignment), and then use Huggingface's Transformers library  to load the pretrained model and tokenizer."
      ]
    },
    {
      "cell_type": "code",
      "source": [
        "# Download model from registry:\n",
        "\n",
        "from comet_ml import API\n",
        "\n",
        "api = API(api_key=COMET_API_KEY)\n",
        "\n",
        "# model name\n",
        "model_name = \"Emotion-T5-Base\"\n",
        "\n",
        "#get the Model object\n",
        "model = api.get_model(workspace=COMET_WORKSPACE, model_name=model_name)\n",
        "\n",
        "# Download a Registry Model:\n",
        "model.download(\"1.0.0\", \"./deploy\", expand=True)"
      ],
      "metadata": {
        "id": "wps49cU9WMYL"
      },
      "execution_count": null,
      "outputs": []
    },
    {
      "cell_type": "markdown",
      "source": [
        "The `model.download()` method will download not only the model file, but all the related assets we logged, meaning we can point Huggingface's `from_pretrained()` method directly at our download folder and everything will just work."
      ],
      "metadata": {
        "id": "6HVwiQRJWPfc"
      }
    },
    {
      "cell_type": "code",
      "execution_count": null,
      "metadata": {
        "id": "4jGejoru_Y9Y"
      },
      "outputs": [],
      "source": [
        "# load model and tokenizer\n",
        "model = AutoModelForSeq2SeqLM.from_pretrained(\"./deploy/checkpoint-7\")\n",
        "tokenizer = AutoTokenizer.from_pretrained(\"./deploy/checkpoint-7/\")"
      ]
    },
    {
      "cell_type": "markdown",
      "metadata": {
        "id": "iwFUZU38_Y9Y"
      },
      "source": [
        "### Load the Data to Evaluate\n",
        "\n",
        "The next step is to load the evaluation dataset. We are reloading the dataset from the previous notebook."
      ]
    },
    {
      "cell_type": "code",
      "execution_count": null,
      "metadata": {
        "id": "NgKH5AxA_Y9Y"
      },
      "outputs": [],
      "source": [
        "emotion_dataset_val_temp = pd.read_json(path_or_buf=\"https://raw.githubusercontent.com/comet-ml/comet-llmops/main/data/merged_training_sample_prepared_valid.jsonl\", lines=True)\n",
        "emotion_dataset_test = emotion_dataset_val_temp.iloc[int(len(emotion_dataset_val_temp)/2):]"
      ]
    },
    {
      "cell_type": "code",
      "execution_count": null,
      "metadata": {
        "id": "KjnMtBDQ_Y9Y",
        "outputId": "8f2ac4ba-5cfe-463c-f4b0-7cfb08bbf6cb"
      },
      "outputs": [
        {
          "data": {
            "text/plain": [
              "['i feel very very disturbed right now i dont know how to say this but guess i couldnt sleep tonight just to think about this about him\\n\\n###\\n\\n',\n",
              " 'i feel make them the most dangerous and their level of annoyance is what gives them high priority\\n\\n###\\n\\n',\n",
              " 'i can feel sympathetic joy for my boyfriend and colleagues the latter being like times harder than the former\\n\\n###\\n\\n',\n",
              " 'i found these emails from scott dale and just reading them frusterated me so much that i feel the need to post them and show the world what a neurotic freak he was is\\n\\n###\\n\\n',\n",
              " 'i won t lie and say there isn t a part of me that still feels insulted by it\\n\\n###\\n\\n']"
            ]
          },
          "execution_count": 4,
          "metadata": {},
          "output_type": "execute_result"
        }
      ],
      "source": [
        "emotion_dataset_test.head().prompt.tolist()"
      ]
    },
    {
      "cell_type": "markdown",
      "metadata": {
        "id": "IScMHEuZ_Y9Y"
      },
      "source": [
        "### Evaluate Finetuned Emotion Classifier\n",
        "\n",
        "Evaluate different models and prompting techniques and log results when prompting the fine-tuned model. As a take-how exercise feel free to log results with few-shot and one-shot prompting using gpt-3.5-turbo. This way it will be possible to compare the finetuned model with other high-performing models.\n"
      ]
    },
    {
      "cell_type": "code",
      "execution_count": null,
      "metadata": {
        "id": "kYprKXo2_Y9Z",
        "outputId": "48e62711-3d3b-4ebc-f609-c70cd8f79ec4"
      },
      "outputs": [
        {
          "name": "stdout",
          "output_type": "stream",
          "text": [
            "Prompt logged to https://www.comet.com/omarsar/emotion-evaluation\n"
          ]
        }
      ],
      "source": [
        "# for comet logging\n",
        "comet_llm.init(project=\"emotion-evaluation\")\n",
        "\n",
        "# prompt prefix\n",
        "prefix = \"Classify the provided piece of text into one of the following emotion labels.\\n\\nEmotion labels: ['anger', 'fear', 'joy', 'love', 'sadness', 'surprise']\\n\\nText:\"\n",
        "\n",
        "# prepare prompts\n",
        "prompts = [{\"prompt\": row.prompt.strip(\"\\n\\n###\\n\\n\") + \"\\n\\n\" + \"Emotion output:\", \"completion\": row.completion.strip(\"\\n\").strip(\" \")} for index, row in emotion_dataset_test.iterrows()]\n",
        "\n",
        "# expected results to log\n",
        "actual_completions = [prompt[\"completion\"] for prompt in prompts]\n",
        "\n",
        "# the results from the fine-tuned model\n",
        "finetuned_completions = []\n",
        "\n",
        "for prompt in prompts:\n",
        "\n",
        "    # finetuned model outputs\n",
        "    input_ids = tokenizer.encode(prefix + prompt[\"prompt\"], return_tensors=\"pt\")\n",
        "    output = model.generate(input_ids, do_sample=True, max_new_tokens=1, temperature=0.1)\n",
        "    output_text = tokenizer.decode(output[0], skip_special_tokens=True).strip(\"<pad>\").strip(\" \")\n",
        "    finetuned_completions.append(output_text)\n",
        "\n",
        "    # log the prompts\n",
        "    comet_llm.log_prompt(\n",
        "        prompt = prefix + prompt[\"prompt\"],\n",
        "        tags = [\"flan-t5-base\", \"fine-tuned\"],\n",
        "        metadata = {\n",
        "            \"model_name\": \"flan-t5-base\",\n",
        "            \"temperature\": 0.1,\n",
        "            \"expected_output\": prompt[\"completion\"],\n",
        "        },\n",
        "        output = output_text\n",
        "    )\n",
        "\n",
        "    # exercise: log zero-shot and few-shot results with GPT-3.5-Turbo and GPT-4 and compare with your fine-tuned model\n"
      ]
    },
    {
      "cell_type": "markdown",
      "metadata": {
        "id": "IWr6Gu6c_Y9Z"
      },
      "source": [
        "### Finetuned Model - Confusion Matrix\n",
        "\n",
        "Prepare a confusion matrix to better understand the performance of the fine-tuned model on the multi-label classification task."
      ]
    },
    {
      "cell_type": "code",
      "execution_count": null,
      "metadata": {
        "id": "lpO7aIbr_Y9Z",
        "outputId": "ac6144db-dcc4-49ff-d079-ca16962b8e0f"
      },
      "outputs": [
        {
          "data": {
            "text/plain": [
              "([<matplotlib.axis.YTick at 0x7faa533cf4c0>,\n",
              "  <matplotlib.axis.YTick at 0x7faa533b5e20>,\n",
              "  <matplotlib.axis.YTick at 0x7faa5340bbb0>,\n",
              "  <matplotlib.axis.YTick at 0x7faa597ae700>,\n",
              "  <matplotlib.axis.YTick at 0x7faa597c82b0>,\n",
              "  <matplotlib.axis.YTick at 0x7faa597c8d60>],\n",
              " [Text(0, 0, 'anger'),\n",
              "  Text(0, 1, 'fear'),\n",
              "  Text(0, 2, 'joy'),\n",
              "  Text(0, 3, 'love'),\n",
              "  Text(0, 4, 'sadness'),\n",
              "  Text(0, 5, 'surprise')])"
            ]
          },
          "execution_count": 6,
          "metadata": {},
          "output_type": "execute_result"
        },
        {
          "data": {
            "image/png": "[encoded data removed]",
            "text/plain": [
              "<Figure size 800x800 with 2 Axes>"
            ]
          },
          "metadata": {},
          "output_type": "display_data"
        }
      ],
      "source": [
        "# confusion matrix (logged to experiments as well)\n",
        "\n",
        "from sklearn.metrics import confusion_matrix\n",
        "import seaborn as sns\n",
        "import matplotlib.pyplot as plt\n",
        "\n",
        "# map completion labels to integers\n",
        "completion_map = {\n",
        "    \"anger\": 0,\n",
        "    \"fear\": 1,\n",
        "    \"joy\": 2,\n",
        "    \"love\": 3,\n",
        "    \"sadness\": 4,\n",
        "    \"surprise\": 5\n",
        "}\n",
        "\n",
        "# mapper back to string labels\n",
        "completion_map_string = {\n",
        "    0: \"anger\",\n",
        "    1: \"fear\",\n",
        "    2: \"joy\",\n",
        "    3: \"love\",\n",
        "    4: \"sadness\",\n",
        "    5: \"surprise\"\n",
        "}\n",
        "\n",
        "actual_completions_int = [completion_map[completion] for completion in actual_completions]\n",
        "finetuned_completions_int = [1 if completion == \"nightmare\" else completion_map[completion] for completion in finetuned_completions]\n",
        "\n",
        "cm = confusion_matrix(actual_completions_int, finetuned_completions_int)\n",
        "\n",
        "# plot confusion matrix\n",
        "plt.figure(figsize=(8, 8))\n",
        "sns.heatmap(cm, annot=True, fmt=\".0f\", linewidths=0.5, square=True, cmap=\"Blues_r\")\n",
        "\n",
        "# add emotion labels to confusion matrix\n",
        "plt.ylabel(\"Actual label\")\n",
        "plt.xlabel(\"Predicted label\")\n",
        "\n",
        "# annotate the confusion matrix with completion labels\n",
        "tick_marks = [i for i in range(len(completion_map_string))]\n",
        "plt.xticks(tick_marks, list(completion_map_string.values()), rotation=\"vertical\")\n",
        "plt.yticks(tick_marks, list(completion_map_string.values()), rotation=\"horizontal\")"
      ]
    },
    {
      "cell_type": "markdown",
      "metadata": {
        "id": "1VPZdrm9_Y9a"
      },
      "source": [
        "### Saving Confusion Matrix\n",
        "\n",
        "The code below saves the confusion matrix to the selected Comet experiment. You can obtained the experiment key from Comet's experiment dashboard.\n",
        "\n",
        "Make sure to change the experiment key to your own experiment key. Refer to the video lecture or [Comet's documentation](https://www.comet.com/docs/v2/api-and-sdk/python-sdk/reference/ExistingExperiment/#existingexperimentlog_code) for how to locate the experiment key for your experiment."
      ]
    },
    {
      "cell_type": "code",
      "execution_count": null,
      "metadata": {
        "id": "nm2v5lBK_Y9a",
        "outputId": "3663ceae-5628-47b6-de94-6fbb14db136a"
      },
      "outputs": [
        {
          "name": "stderr",
          "output_type": "stream",
          "text": [
            "\u001b[1;38;5;214mCOMET WARNING:\u001b[0m To get all data logged automatically, import comet_ml before the following modules: torch.\n",
            "\u001b[1;38;5;214mCOMET WARNING:\u001b[0m As you are running in a Jupyter environment, you will need to call `experiment.end()` when finished to ensure all metrics and code are logged before exiting.\n"
          ]
        },
        {
          "name": "stdout",
          "output_type": "stream",
          "text": [
            "huggingface/tokenizers: The current process just got forked, after parallelism has already been used. Disabling parallelism to avoid deadlocks...\n",
            "To disable this warning, you can either:\n",
            "\t- Avoid using `tokenizers` before the fork if possible\n",
            "\t- Explicitly set the environment variable TOKENIZERS_PARALLELISM=(true | false)\n"
          ]
        },
        {
          "name": "stderr",
          "output_type": "stream",
          "text": [
            "\u001b[1;38;5;39mCOMET INFO:\u001b[0m Experiment is live on comet.com https://www.comet.com/omarsar/emotion-classification/097ab78e6e154f24b8090a1a7dd6abb8\n",
            "\n"
          ]
        },
        {
          "data": {
            "text/plain": [
              "{'web': 'https://www.comet.com/api/asset/download?assetId=9f5b04f8cc7441bcb39b27de799fb2ed&experimentKey=097ab78e6e154f24b8090a1a7dd6abb8',\n",
              " 'api': 'https://www.comet.com/api/rest/v2/experiment/asset/get-asset?assetId=9f5b04f8cc7441bcb39b27de799fb2ed&experimentKey=097ab78e6e154f24b8090a1a7dd6abb8',\n",
              " 'assetId': '9f5b04f8cc7441bcb39b27de799fb2ed'}"
            ]
          },
          "execution_count": 7,
          "metadata": {},
          "output_type": "execute_result"
        }
      ],
      "source": [
        "from comet_ml import ExistingExperiment\n",
        "\n",
        "experiment = ExistingExperiment(api_key=COMET_API_KEY, previous_experiment=\"097ab78e6e154f24b8090a1a7dd6abb8\")\n",
        "experiment.log_confusion_matrix(actual_completions_int, finetuned_completions_int, labels=list(completion_map_string.values()))"
      ]
    }
  ],
  "metadata": {
    "kernelspec": {
      "display_name": "comet",
      "language": "python",
      "name": "python3"
    },
    "language_info": {
      "codemirror_mode": {
        "name": "ipython",
        "version": 3
      },
      "file_extension": ".py",
      "mimetype": "text/x-python",
      "name": "python",
      "nbconvert_exporter": "python",
      "pygments_lexer": "ipython3",
      "version": "3.9.17"
    },
    "orig_nbformat": 4,
    "colab": {
      "provenance": []
    }
  },
  "nbformat": 4,
  "nbformat_minor": 0
}