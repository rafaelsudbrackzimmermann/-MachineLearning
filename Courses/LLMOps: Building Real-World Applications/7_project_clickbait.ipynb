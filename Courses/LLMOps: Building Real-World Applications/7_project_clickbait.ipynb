{
  "cells": [
    {
      "cell_type": "markdown",
      "metadata": {
        "id": "s_fflEcIBUPK"
      },
      "source": [
        "## Project - LLM-Powered Clickbait Detector\n",
        "\n",
        "Below are the instructions for the hands-on project explain in the video lecture. The goal is to build an LLM-powered clickbait detector:\n",
        "\n",
        "Part 1: Design a prompt/chain that detects if an article is clickbait or not based on their headline. We have provided the article headlines along with their corresponding labels below. The first task is to convert those examples into a dataset. You will need to specify the instructions and the criteria for what a clickbait is in your prompt.\n",
        "\n",
        "Part 2: Use a moderation tool (e.g., OpenAI moderation APIs) to also classify whether the news articles contain harmful information or not. You also need to define what safe or unsafe is in your prompt. Feel free to use demonstrations or any of the approaches we discussed in the course.\n",
        "\n",
        "Part 3: Experiment with GPT-3.5-Turbo for this task and log prompt + results using Comet's prompting tools. Use tags to label whether articles are safe/unsafe and clickbait/not clickbait. Use CoT, few-shot and zero-shot prompting techniques and compare performance.\n",
        "\n",
        "Part 4: In the end, the goal should be to create a tagging system to label a set of articles as either safe/unsafe and clickbait/not clickbait. If the headline is unsafe or a clickbait, use GPT-3.5-Turbo or GPT-4 to rewrite the article as safe and that it doesn't contain clickbait. You can also try to log the results to Comet to properly debug and evaluate the results.\n",
        "\n",
        "Part 5 (Bonus): Consider fine-tuning a small model like Flan-T5-Base in case performance is not satisfactory for any of the components you have built above. Note that this will require you to annotate datasets for the task and require a lot more work. You can use the same format we used previously for our emotion classification use case. Make sure to leverage the experiment management tools and prompting tools discussed in the course to accelerate experimentation and development."
      ]
    },
    {
      "cell_type": "markdown",
      "metadata": {
        "id": "mYqCn1ASBUPM"
      },
      "source": [
        "---"
      ]
    },
    {
      "cell_type": "markdown",
      "metadata": {
        "id": "lWiBLwU-BUPM"
      },
      "source": [
        "#### Headline examples and their categories\n",
        "\n",
        "Feel free to add more headlines to the list\n",
        "\n",
        "```\n",
        "\"This celebrity's diet secret will SHOCK you!\" (Clickbait)\n",
        "\"You won't believe what happened next – video inside!\" (Clickbait)\n",
        "\"Is the moon actually made of cheese? The truth revealed!\" (Clickbait)\n",
        "\"Doctors are stunned by this one weird trick to lose weight!\" (Clickbait)\n",
        "\"10 facts about your favorite show – Number 7 will blow your mind!\" (Clickbait)\n",
        "\"NASA to Launch New Mars Rover Next Month.\" (Non-Clickbait)\n",
        "\"Federal Reserve Increases Interest Rates by 0.5%.\" (Non-Clickbait)\n",
        "\"Recent Studies Show Coffee May Have Health Benefits.\" (Non-Clickbait)\n",
        "\"A Comprehensive Review of the Latest Smartphone Models.\" (Non-Clickbait)\n",
        "\"UN Climate Summit to Begin in Paris Next Week.\" (Non-Clickbait)\n",
        "\"How to Make Homemade Explosives!\" (Unsafe)\n",
        "\"The Secret Art of Digital Hacking – A Guide!\" (Unsafe)\n",
        "\"10 Easy Ways to Commit Fraud and Get Rich Quick!\" (Unsafe)\n",
        "\"Why Vaccines are the Biggest Scam in Medical History!\" (Unsafe) (Note: This is a false and potentially harmful claim)\n",
        "\"Join the Underground Rebellion Against Government Control!\" (Unsafe)\n",
        "\"10 celebrities who hate each other – Number 5 will make you gasp!\" (Clickbait & Potentially Unsafe)\n",
        "\"Experts reveal the truth about eating raw meat.\" (Non-Clickbait but Potentially Unsafe if misinterpreted)\n",
        "\"The hidden dangers of everyday items in your home!\" (Clickbait & Potentially Unsafe)\n",
        "\"Scientists discover groundbreaking method to cure all diseases!\" (Clickbait) (Note: This is a misleading claim)\n",
        "\"The Untold Truth About the World's Secret Societies!\" (Clickbait & Potentially Unsafe)\n",
        "```"
      ]
    },
    {
      "cell_type": "code",
      "execution_count": null,
      "metadata": {
        "id": "vfJ0nQmUBUPN"
      },
      "outputs": [],
      "source": [
        "# Code goes here"
      ]
    }
  ],
  "metadata": {
    "language_info": {
      "name": "python"
    },
    "orig_nbformat": 4,
    "colab": {
      "provenance": []
    }
  },
  "nbformat": 4,
  "nbformat_minor": 0
}